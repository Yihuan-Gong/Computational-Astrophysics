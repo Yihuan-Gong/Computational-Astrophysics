{
 "cells": [
  {
   "cell_type": "code",
   "execution_count": 38,
   "metadata": {},
   "outputs": [],
   "source": [
    "import numpy as np\n",
    "import matplotlib.pyplot as plt\n",
    "import scipy.linalg"
   ]
  },
  {
   "cell_type": "markdown",
   "metadata": {},
   "source": [
    "#### Use FDM to solve y''(t) = 6t"
   ]
  },
  {
   "cell_type": "code",
   "execution_count": 2,
   "metadata": {},
   "outputs": [],
   "source": [
    "def const_diag_offset(N, value, offset):\n",
    "\n",
    "    # Initialize A\n",
    "    A = np.zeros((N,N), dtype=np.float64)\n",
    "\n",
    "    # Assign the (offset) diagonal element with const value\n",
    "    for i in range(N):\n",
    "        column = i + offset\n",
    "        if column>=0 and column<N:\n",
    "            A[i][column] = value\n",
    "    \n",
    "    return A"
   ]
  },
  {
   "cell_type": "code",
   "execution_count": 28,
   "metadata": {},
   "outputs": [],
   "source": [
    "# The dimmension\n",
    "n = 19\n",
    "\n",
    "# The step\n",
    "h = 0.05\n",
    "\n",
    "# Generate the matrix in exercise 6\n",
    "A =   const_diag_offset(n,  1, -1) \\\n",
    "    + const_diag_offset(n, -2,  0) \\\n",
    "    + const_diag_offset(n,  1,  1) \n",
    "\n",
    "\n",
    "# Generate b vector\n",
    "b     = np.linspace(0.05, 0.95, n) * 6.*h**2.\n",
    "b[0]  = b[0]  - 1 # To satisfy BC\n",
    "b[-1] = b[-1] - 1 # To satisfy BC"
   ]
  },
  {
   "cell_type": "code",
   "execution_count": 29,
   "metadata": {},
   "outputs": [
    {
     "data": {
      "text/plain": [
       "array([-0.99925,  0.0015 ,  0.00225,  0.003  ,  0.00375,  0.0045 ,\n",
       "        0.00525,  0.006  ,  0.00675,  0.0075 ,  0.00825,  0.009  ,\n",
       "        0.00975,  0.0105 ,  0.01125,  0.012  ,  0.01275,  0.0135 ,\n",
       "       -0.98575])"
      ]
     },
     "execution_count": 29,
     "metadata": {},
     "output_type": "execute_result"
    }
   ],
   "source": [
    "b"
   ]
  },
  {
   "cell_type": "code",
   "execution_count": 30,
   "metadata": {},
   "outputs": [],
   "source": [
    "# Using scipy for LU decomposition\n",
    "lu, piv = scipy.linalg.lu_factor(A)\n",
    "\n",
    "# Solve Ax = b\n",
    "y = scipy.linalg.lu_solve((lu, piv), b)"
   ]
  },
  {
   "cell_type": "code",
   "execution_count": 31,
   "metadata": {},
   "outputs": [
    {
     "data": {
      "text/plain": [
       "array([0.950125, 0.901   , 0.853375, 0.808   , 0.765625, 0.727   ,\n",
       "       0.692875, 0.664   , 0.641125, 0.625   , 0.616375, 0.616   ,\n",
       "       0.624625, 0.643   , 0.671875, 0.712   , 0.764125, 0.829   ,\n",
       "       0.907375])"
      ]
     },
     "execution_count": 31,
     "metadata": {},
     "output_type": "execute_result"
    }
   ],
   "source": [
    "# Print the solution\n",
    "y"
   ]
  },
  {
   "cell_type": "code",
   "execution_count": 32,
   "metadata": {},
   "outputs": [
    {
     "data": {
      "text/plain": [
       "True"
      ]
     },
     "execution_count": 32,
     "metadata": {},
     "output_type": "execute_result"
    }
   ],
   "source": [
    "# Check if the solution x is correct\n",
    "np.allclose(A @ y - b, np.zeros((n,)))"
   ]
  },
  {
   "cell_type": "markdown",
   "metadata": {},
   "source": [
    "#### Plot the FDM result and compare to analytical solution"
   ]
  },
  {
   "cell_type": "code",
   "execution_count": 42,
   "metadata": {},
   "outputs": [],
   "source": [
    "t           = np.linspace(0., 1., 21)\n",
    "y_anal      = t**3. - t + 1    # Analytical solution\n",
    "y_fdm       = np.full(21, 1.)  # BC\n",
    "y_fdm[1:20] = y                # FDM solution + BC"
   ]
  },
  {
   "cell_type": "code",
   "execution_count": 43,
   "metadata": {},
   "outputs": [
    {
     "data": {
      "text/plain": [
       "<matplotlib.legend.Legend at 0x7fb230ae1668>"
      ]
     },
     "execution_count": 43,
     "metadata": {},
     "output_type": "execute_result"
    },
    {
     "data": {
      "image/png": "[encoded data removed]",
      "text/plain": [
       "<Figure size 432x288 with 1 Axes>"
      ]
     },
     "metadata": {
      "needs_background": "light"
     },
     "output_type": "display_data"
    }
   ],
   "source": [
    "fig, ax = plt.subplots()\n",
    "\n",
    "ax.set(\n",
    "    xlabel='x',\n",
    "    ylabel='y',\n",
    "    xlim = [0,1],\n",
    ")\n",
    "\n",
    "ax.plot(t, y_anal, label='Analytical')\n",
    "ax.plot(t, y_fdm , label='Finite difference')\n",
    "\n",
    "ax.legend()"
   ]
  },
  {
   "cell_type": "code",
   "execution_count": 36,
   "metadata": {},
   "outputs": [
    {
     "data": {
      "text/plain": [
       "array([-1.11022302e-16, -1.11022302e-16,  0.00000000e+00,  1.11022302e-16,\n",
       "        2.22044605e-16,  2.22044605e-16,  1.11022302e-16,  0.00000000e+00,\n",
       "        0.00000000e+00,  0.00000000e+00,  1.11022302e-16,  1.11022302e-16,\n",
       "        1.11022302e-16,  0.00000000e+00,  0.00000000e+00,  0.00000000e+00,\n",
       "        0.00000000e+00, -1.11022302e-16,  0.00000000e+00])"
      ]
     },
     "execution_count": 36,
     "metadata": {},
     "output_type": "execute_result"
    }
   ],
   "source": [
    "y - y_anal"
   ]
  },
  {
   "cell_type": "code",
   "execution_count": null,
   "metadata": {},
   "outputs": [],
   "source": []
  }
 ],
 "metadata": {
  "kernelspec": {
   "display_name": "Python 3.6.13 ('ytplot': conda)",
   "language": "python",
   "name": "python3"
  },
  "language_info": {
   "codemirror_mode": {
    "name": "ipython",
    "version": 3
   },
   "file_extension": ".py",
   "mimetype": "text/x-python",
   "name": "python",
   "nbconvert_exporter": "python",
   "pygments_lexer": "ipython3",
   "version": "3.6.13"
  },
  "orig_nbformat": 4,
  "vscode": {
   "interpreter": {
    "hash": "7533367d48e97b11ff1ec66dfa43d4040b3361b2ccb9968411e3d77c3918e8fe"
   }
  }
 },
 "nbformat": 4,
 "nbformat_minor": 2
}
