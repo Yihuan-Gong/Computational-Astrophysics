{
 "cells": [
  {
   "cell_type": "code",
   "execution_count": 167,
   "metadata": {},
   "outputs": [],
   "source": [
    "import numpy as np\n",
    "import scipy.linalg\n",
    "import time"
   ]
  },
  {
   "cell_type": "code",
   "execution_count": 151,
   "metadata": {},
   "outputs": [],
   "source": [
    "def const_diag_offset(N, value, offset):\n",
    "\n",
    "    # Initialize A\n",
    "    A = np.zeros((N,N), dtype=np.float64)\n",
    "\n",
    "    # Assign the (offset) diagonal element with const value\n",
    "    for i in range(N):\n",
    "        column = i + offset\n",
    "        if column>=0 and column<N:\n",
    "            A[i][column] = value\n",
    "    \n",
    "    return A"
   ]
  },
  {
   "cell_type": "code",
   "execution_count": 152,
   "metadata": {},
   "outputs": [],
   "source": [
    "# The dimmension\n",
    "n = 100\n",
    "\n",
    "# Generate the matrix in exercise 6\n",
    "A =   const_diag_offset(n,  1, -2) \\\n",
    "    + const_diag_offset(n, -4, -1) \\\n",
    "    + const_diag_offset(n,  6,  0) \\\n",
    "    + const_diag_offset(n, -4,  1) \\\n",
    "    + const_diag_offset(n,  1,  2) \n",
    "\n",
    "delta = np.zeros((n,n), dtype=np.float64)\n",
    "delta[0][0]  = 3\n",
    "delta[98][98]=-1\n",
    "delta[98][99]= 2\n",
    "delta[99][98]= 2\n",
    "delta[99][99]=-5\n",
    "\n",
    "A = A + delta\n",
    "\n",
    "# Generate b vector\n",
    "b = np.full(n, 1.)"
   ]
  },
  {
   "cell_type": "code",
   "execution_count": 153,
   "metadata": {},
   "outputs": [
    {
     "data": {
      "text/plain": [
       "array([[ 9., -4.,  1., ...,  0.,  0.,  0.],\n",
       "       [-4.,  6., -4., ...,  0.,  0.,  0.],\n",
       "       [ 1., -4.,  6., ...,  0.,  0.,  0.],\n",
       "       ...,\n",
       "       [ 0.,  0.,  0., ...,  6., -4.,  1.],\n",
       "       [ 0.,  0.,  0., ..., -4.,  5., -2.],\n",
       "       [ 0.,  0.,  0., ...,  1., -2.,  1.]])"
      ]
     },
     "execution_count": 153,
     "metadata": {},
     "output_type": "execute_result"
    }
   ],
   "source": [
    "# Check A matrix\n",
    "A"
   ]
  },
  {
   "cell_type": "markdown",
   "metadata": {},
   "source": [
    "Exercise 6-1"
   ]
  },
  {
   "cell_type": "code",
   "execution_count": 168,
   "metadata": {},
   "outputs": [
    {
     "name": "stdout",
     "output_type": "stream",
     "text": [
      "--- 0.0017728805541992188 seconds ---\n"
     ]
    }
   ],
   "source": [
    "start_time = time.time()\n",
    "\n",
    "# Using scipy for LU decomposition\n",
    "lu, piv = scipy.linalg.lu_factor(A)\n",
    "\n",
    "# Solve Ax = b\n",
    "x = scipy.linalg.lu_solve((lu, piv), b)\n",
    "\n",
    "print(\"--- %s seconds ---\" % (time.time() - start_time))"
   ]
  },
  {
   "cell_type": "code",
   "execution_count": 165,
   "metadata": {},
   "outputs": [
    {
     "name": "stdout",
     "output_type": "stream",
     "text": [
      "[1.26e+03 7.48e+03 1.85e+04 3.44e+04 5.48e+04 7.99e+04 1.09e+05 1.43e+05\n",
      " 1.81e+05 2.24e+05 2.70e+05 3.21e+05 3.75e+05 4.33e+05 4.95e+05 5.61e+05\n",
      " 6.30e+05 7.02e+05 7.78e+05 8.58e+05 9.40e+05 1.03e+06 1.11e+06 1.21e+06\n",
      " 1.30e+06 1.40e+06 1.50e+06 1.60e+06 1.71e+06 1.82e+06 1.93e+06 2.04e+06\n",
      " 2.16e+06 2.27e+06 2.39e+06 2.52e+06 2.64e+06 2.77e+06 2.89e+06 3.02e+06\n",
      " 3.16e+06 3.29e+06 3.43e+06 3.56e+06 3.70e+06 3.84e+06 3.98e+06 4.13e+06\n",
      " 4.27e+06 4.42e+06 4.56e+06 4.71e+06 4.86e+06 5.01e+06 5.16e+06 5.32e+06\n",
      " 5.47e+06 5.63e+06 5.78e+06 5.94e+06 6.09e+06 6.25e+06 6.41e+06 6.57e+06\n",
      " 6.73e+06 6.89e+06 7.05e+06 7.21e+06 7.38e+06 7.54e+06 7.70e+06 7.87e+06\n",
      " 8.03e+06 8.20e+06 8.36e+06 8.53e+06 8.69e+06 8.86e+06 9.02e+06 9.19e+06\n",
      " 9.36e+06 9.52e+06 9.69e+06 9.86e+06 1.00e+07 1.02e+07 1.04e+07 1.05e+07\n",
      " 1.07e+07 1.09e+07 1.10e+07 1.12e+07 1.14e+07 1.15e+07 1.17e+07 1.19e+07\n",
      " 1.20e+07 1.22e+07 1.24e+07 1.25e+07]\n"
     ]
    }
   ],
   "source": [
    "np.set_printoptions(2)\n",
    "print(x)"
   ]
  },
  {
   "cell_type": "code",
   "execution_count": 156,
   "metadata": {},
   "outputs": [
    {
     "data": {
      "text/plain": [
       "True"
      ]
     },
     "execution_count": 156,
     "metadata": {},
     "output_type": "execute_result"
    }
   ],
   "source": [
    "# Check if the solution x is correct\n",
    "np.allclose(A @ x - b, np.zeros((n,)))"
   ]
  },
  {
   "cell_type": "markdown",
   "metadata": {},
   "source": [
    "Exercise 6-2"
   ]
  },
  {
   "cell_type": "code",
   "execution_count": 157,
   "metadata": {},
   "outputs": [],
   "source": [
    "def a2ab(N, a, l, u):\n",
    "\n",
    "    # Initialize ab\n",
    "    ab = np.zeros((l+u+1,N))\n",
    "\n",
    "    # Transform a to ab\n",
    "    for i in range(N):\n",
    "        for j in range(max(i-l, 0), min(u+i+1, N)):\n",
    "            # print((i,j), '=>', (u + i - j, j))\n",
    "            ab[u + i - j, j] = a[i,j]\n",
    "                \n",
    "    return ab"
   ]
  },
  {
   "cell_type": "code",
   "execution_count": 169,
   "metadata": {},
   "outputs": [
    {
     "name": "stdout",
     "output_type": "stream",
     "text": [
      "--- 0.0007059574127197266 seconds ---\n"
     ]
    }
   ],
   "source": [
    "start_time = time.time()\n",
    "\n",
    "# For matrix A, there is two nonzero diagonal below the main diagonal (l = 2), \n",
    "# and two above (u = 2). The diagonal banded form of the matrix is:\n",
    "AB = a2ab(N=n, a=A, l=2, u=2)\n",
    "\n",
    "# Solve for x\n",
    "x_band = scipy.linalg.solve_banded((2, 2), AB, b)\n",
    "\n",
    "print(\"--- %s seconds ---\" % (time.time() - start_time))"
   ]
  },
  {
   "cell_type": "code",
   "execution_count": 166,
   "metadata": {},
   "outputs": [
    {
     "name": "stdout",
     "output_type": "stream",
     "text": [
      "[1.26e+03 7.47e+03 1.85e+04 3.44e+04 5.48e+04 7.99e+04 1.09e+05 1.43e+05\n",
      " 1.81e+05 2.24e+05 2.70e+05 3.21e+05 3.75e+05 4.33e+05 4.95e+05 5.61e+05\n",
      " 6.30e+05 7.02e+05 7.78e+05 8.58e+05 9.40e+05 1.03e+06 1.11e+06 1.21e+06\n",
      " 1.30e+06 1.40e+06 1.50e+06 1.60e+06 1.71e+06 1.82e+06 1.93e+06 2.04e+06\n",
      " 2.16e+06 2.27e+06 2.39e+06 2.52e+06 2.64e+06 2.77e+06 2.89e+06 3.02e+06\n",
      " 3.16e+06 3.29e+06 3.43e+06 3.56e+06 3.70e+06 3.84e+06 3.98e+06 4.13e+06\n",
      " 4.27e+06 4.42e+06 4.56e+06 4.71e+06 4.86e+06 5.01e+06 5.16e+06 5.32e+06\n",
      " 5.47e+06 5.63e+06 5.78e+06 5.94e+06 6.09e+06 6.25e+06 6.41e+06 6.57e+06\n",
      " 6.73e+06 6.89e+06 7.05e+06 7.21e+06 7.38e+06 7.54e+06 7.70e+06 7.87e+06\n",
      " 8.03e+06 8.20e+06 8.36e+06 8.53e+06 8.69e+06 8.86e+06 9.02e+06 9.19e+06\n",
      " 9.36e+06 9.52e+06 9.69e+06 9.86e+06 1.00e+07 1.02e+07 1.04e+07 1.05e+07\n",
      " 1.07e+07 1.09e+07 1.10e+07 1.12e+07 1.14e+07 1.15e+07 1.17e+07 1.19e+07\n",
      " 1.20e+07 1.22e+07 1.24e+07 1.25e+07]\n"
     ]
    }
   ],
   "source": [
    "np.set_printoptions(2)\n",
    "print(x_band)"
   ]
  },
  {
   "cell_type": "code",
   "execution_count": 161,
   "metadata": {},
   "outputs": [
    {
     "data": {
      "text/plain": [
       "True"
      ]
     },
     "execution_count": 161,
     "metadata": {},
     "output_type": "execute_result"
    }
   ],
   "source": [
    "# Verify the solution\n",
    "np.allclose(A @ x_band - b, np.zeros((n,)))"
   ]
  },
  {
   "cell_type": "markdown",
   "metadata": {},
   "source": [
    "Exercise 6-3"
   ]
  },
  {
   "cell_type": "code",
   "execution_count": 208,
   "metadata": {},
   "outputs": [],
   "source": [
    "def matrix_norm1(A, n):\n",
    "    absolute_column_sum = [np.abs(A[:][j]).sum() for j in range(n)]\n",
    "    return np.array(absolute_column_sum).max()\n"
   ]
  },
  {
   "cell_type": "code",
   "execution_count": 209,
   "metadata": {},
   "outputs": [
    {
     "data": {
      "text/plain": [
       "16.0"
      ]
     },
     "execution_count": 209,
     "metadata": {},
     "output_type": "execute_result"
    }
   ],
   "source": [
    "# The L1 norm of matrix A\n",
    "A_norm1 = matrix_norm1(A, n)\n",
    "A_norm1"
   ]
  },
  {
   "cell_type": "code",
   "execution_count": 204,
   "metadata": {},
   "outputs": [
    {
     "data": {
      "text/plain": [
       "12541675.002266005"
      ]
     },
     "execution_count": 204,
     "metadata": {},
     "output_type": "execute_result"
    }
   ],
   "source": [
    "# The L1 norm if matrix A^-1\n",
    "A_inv_norm1 = matrix_norm1(np.linalg.inv(A), n)\n",
    "A_inv_norm1"
   ]
  },
  {
   "cell_type": "code",
   "execution_count": 210,
   "metadata": {},
   "outputs": [
    {
     "data": {
      "text/plain": [
       "200666800.03625607"
      ]
     },
     "execution_count": 210,
     "metadata": {},
     "output_type": "execute_result"
    }
   ],
   "source": [
    "# The condition number\n",
    "cond_A = A_norm1*A_inv_norm1\n",
    "cond_A"
   ]
  },
  {
   "cell_type": "markdown",
   "metadata": {},
   "source": [
    "Example of scipy.linalg.lu_factor from website"
   ]
  },
  {
   "cell_type": "code",
   "execution_count": 43,
   "metadata": {},
   "outputs": [],
   "source": [
    "A = np.array([[2, 5, 8, 7], [5, 2, 2, 8], [7, 5, 6, 6], [5, 4, 4, 8]])\n",
    "lu, piv = scipy.linalg.lu_factor(A)\n",
    "\n",
    "piv_py = [2, 0, 3, 1]\n",
    "L, U = np.tril(lu, k=-1) + np.eye(4), np.triu(lu)"
   ]
  },
  {
   "cell_type": "code",
   "execution_count": 48,
   "metadata": {},
   "outputs": [
    {
     "data": {
      "text/plain": [
       "array([[ 0.0000000e+00,  0.0000000e+00,  0.0000000e+00,  0.0000000e+00],\n",
       "       [ 0.0000000e+00,  0.0000000e+00,  0.0000000e+00,  0.0000000e+00],\n",
       "       [ 8.8817842e-16,  0.0000000e+00,  0.0000000e+00,  0.0000000e+00],\n",
       "       [ 8.8817842e-16, -4.4408921e-16,  4.4408921e-16,  0.0000000e+00]])"
      ]
     },
     "execution_count": 48,
     "metadata": {},
     "output_type": "execute_result"
    }
   ],
   "source": [
    "# Check if the LU decomposition was correct\n",
    "A[piv_py] - L @ U"
   ]
  },
  {
   "cell_type": "markdown",
   "metadata": {},
   "source": [
    "Example of scipy.linalg.solve_banded from website"
   ]
  },
  {
   "cell_type": "code",
   "execution_count": 129,
   "metadata": {},
   "outputs": [],
   "source": [
    "# There is one nonzero diagonal below the main diagonal (l = 1), and two above (u = 2)\n",
    "a = np.array([[5,  2, -1,  0,  0],    \n",
    "              [1,  4,  2, -1,  0],    \n",
    "              [0,  1,  3,  2, -1],   \n",
    "              [0,  0,  1,  2,  2], \n",
    "              [0,  0,  0,  1,  1]])   \n"
   ]
  },
  {
   "cell_type": "markdown",
   "metadata": {},
   "source": [
    "The matrix a is stored in ab using the matrix diagonal ordered form\n",
    "\n",
    "\n",
    "ab[u + i - j, j] == a[i,j]"
   ]
  },
  {
   "cell_type": "code",
   "execution_count": 62,
   "metadata": {},
   "outputs": [
    {
     "data": {
      "text/plain": [
       "array([-2.37288136,  3.93220339, -4.        ,  4.3559322 , -1.3559322 ])"
      ]
     },
     "execution_count": 62,
     "metadata": {},
     "output_type": "execute_result"
    }
   ],
   "source": [
    "# ab represent a*b\n",
    "ab = np.array([[0,  0, -1, -1, -1],\n",
    "               [0,  2,  2,  2,  2],\n",
    "               [5,  4,  3,  2,  1],\n",
    "               [1,  1,  1,  1,  0]])\n",
    "\n",
    "b = np.array([0, 1, 2, 2, 3])\n",
    "\n",
    "# Solve ax = b\n",
    "x = scipy.linalg.solve_banded((1, 2), ab, b)\n",
    "x"
   ]
  },
  {
   "cell_type": "code",
   "execution_count": 143,
   "metadata": {},
   "outputs": [
    {
     "data": {
      "text/plain": [
       "array([[0., 0., 0., 0., 0.],\n",
       "       [0., 0., 0., 0., 0.],\n",
       "       [0., 0., 0., 0., 0.],\n",
       "       [0., 0., 0., 0., 0.]])"
      ]
     },
     "execution_count": 143,
     "metadata": {},
     "output_type": "execute_result"
    }
   ],
   "source": [
    "# Check ab\n",
    "ab - a2ab(N=5, a=a, l=1, u=2)"
   ]
  }
 ],
 "metadata": {
  "kernelspec": {
   "display_name": "Python 3.6.8 64-bit",
   "language": "python",
   "name": "python3"
  },
  "language_info": {
   "codemirror_mode": {
    "name": "ipython",
    "version": 3
   },
   "file_extension": ".py",
   "mimetype": "text/x-python",
   "name": "python",
   "nbconvert_exporter": "python",
   "pygments_lexer": "ipython3",
   "version": "3.6.8"
  },
  "orig_nbformat": 4,
  "vscode": {
   "interpreter": {
    "hash": "916dbcbb3f70747c44a77c7bcd40155683ae19c65e1c03b4aa3499c5328201f1"
   }
  }
 },
 "nbformat": 4,
 "nbformat_minor": 2
}
