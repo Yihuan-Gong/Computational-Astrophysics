{
 "cells": [
  {
   "cell_type": "code",
   "execution_count": null,
   "metadata": {},
   "outputs": [],
   "source": [
    "import numpy as np\n",
    "import matplotlib as mpl\n",
    "import matplotlib.pyplot as plt\n",
    "import time\n",
    "from IPython.display import clear_output\n",
    "%matplotlib inline"
   ]
  },
  {
   "cell_type": "markdown",
   "metadata": {},
   "source": [
    "---\n",
    "# Part 1"
   ]
  },
  {
   "cell_type": "markdown",
   "metadata": {},
   "source": [
    "set parameters"
   ]
  },
  {
   "cell_type": "code",
   "execution_count": null,
   "metadata": {},
   "outputs": [],
   "source": [
    "NX    = 10\n",
    "NY    = 10\n",
    "XMIN  = 0\n",
    "XMAX  = 1\n",
    "YMIN  = 0\n",
    "YMAX  = 1\n",
    "NITER = 30  # max number of iterations"
   ]
  },
  {
   "cell_type": "markdown",
   "metadata": {},
   "source": [
    "Initialize the grids"
   ]
  },
  {
   "cell_type": "code",
   "execution_count": null,
   "metadata": {},
   "outputs": [],
   "source": [
    "u = np.zeros(shape=(NX,NY))"
   ]
  },
  {
   "cell_type": "markdown",
   "metadata": {},
   "source": [
    "set initial conditions (assume 0 everywhere)"
   ]
  },
  {
   "cell_type": "code",
   "execution_count": null,
   "metadata": {},
   "outputs": [],
   "source": [
    "def initial(u,nx=NX,ny=NY):\n",
    "    u[:,:] = 0\n",
    "    return u"
   ]
  },
  {
   "cell_type": "markdown",
   "metadata": {},
   "source": [
    "Boundary conditions"
   ]
  },
  {
   "cell_type": "code",
   "execution_count": null,
   "metadata": {},
   "outputs": [],
   "source": [
    "def set_boundary_conditions(u,nx=NX,ny=NY):\n",
    "    \"\"\"\n",
    "    Input: u[i][j]\n",
    "    \n",
    "    Output: u[i][j]\n",
    "    \n",
    "    B.C.: top    (y=1): u = 1\n",
    "          button (y=0): u = 0\n",
    "          left   (x=0): u = 0\n",
    "          right  (x=1): u = 0\n",
    "    \"\"\"\n",
    "\n",
    "    # TODO: set the boundary conditions here\n",
    "    \n",
    "    return u"
   ]
  },
  {
   "cell_type": "markdown",
   "metadata": {},
   "source": [
    "## Jacobi method\n",
    "Do one iteration"
   ]
  },
  {
   "cell_type": "code",
   "execution_count": null,
   "metadata": {},
   "outputs": [],
   "source": [
    "def evolve_jacobi(u,nx=NX,ny=NY):\n",
    "    \"\"\"\n",
    "    do one Jacobi iteration\n",
    "    \n",
    "    Inputs: u[size of NX][size of NY]\n",
    "    NX: number of points in x-axis\n",
    "    NY: number of points in y-axis\n",
    "    \n",
    "    Outputs: u\n",
    "    \n",
    "    \"\"\"\n",
    "    uold = u.copy()\n",
    "\n",
    "    return u"
   ]
  },
  {
   "cell_type": "markdown",
   "metadata": {},
   "source": [
    "Check convergence by comparing the differecne between u1 and u2"
   ]
  },
  {
   "cell_type": "code",
   "execution_count": null,
   "metadata": {},
   "outputs": [],
   "source": [
    "def diff(u1,u2,nx=NX,ny=NY):\n",
    "    error = 0.0\n",
    "    for i in range(nx):\n",
    "        for j in range(ny):\n",
    "            error += abs(u1[i,j] - u2[i,j])\n",
    "    return error"
   ]
  },
  {
   "cell_type": "markdown",
   "metadata": {},
   "source": [
    "Start iterations"
   ]
  },
  {
   "cell_type": "code",
   "execution_count": null,
   "metadata": {},
   "outputs": [],
   "source": [
    "u = initial(u)\n",
    "errors = np.zeros(NITER)\n",
    "for n in range(NITER):\n",
    "    \n",
    "    plt.figure(1,figsize=(12,5))\n",
    "    plt.subplot(121)\n",
    "    plt.title(\"N= {}\".format(n))\n",
    "    clear_output(wait=True)\n",
    "    \n",
    "    # make a copy of the u in the previous step\n",
    "    uold = u.copy()\n",
    "    \n",
    "    # do one iteration\n",
    "    u = evolve_jacobi(u)\n",
    "    \n",
    "    # check the difference\n",
    "    err = diff(uold,u)\n",
    "    errors[n] = err\n",
    "    \n",
    "    # plot the results\n",
    "    plt.imshow(u.T,origin='lower',extent=[XMIN,XMAX,YMIN,YMAX],interpolation='none')\n",
    "    plt.colorbar()\n",
    "    plt.subplot(122)\n",
    "    plt.plot(errors,'k-')\n",
    "    plt.xlim([0,NITER+1])\n",
    "    plt.xlabel(\"N\")\n",
    "    plt.yscale('log')\n",
    "    #time.sleep(0.0001)\n",
    "    plt.show()"
   ]
  },
  {
   "cell_type": "markdown",
   "metadata": {},
   "source": [
    "---\n",
    "# Part 2"
   ]
  },
  {
   "cell_type": "markdown",
   "metadata": {},
   "source": [
    "## Gauss-Seidel method"
   ]
  },
  {
   "cell_type": "code",
   "execution_count": null,
   "metadata": {},
   "outputs": [],
   "source": [
    "def evolve_gauss_seidel(u,nx=NX,ny=NY):\n",
    "    \"\"\"\n",
    "    do one Gauss-Seidel iteration\n",
    "    \"\"\"\n",
    "    return u"
   ]
  },
  {
   "cell_type": "code",
   "execution_count": null,
   "metadata": {},
   "outputs": [],
   "source": [
    "#TODO: Visualize the results here"
   ]
  },
  {
   "cell_type": "markdown",
   "metadata": {},
   "source": [
    "---\n",
    "# Part 3"
   ]
  },
  {
   "cell_type": "markdown",
   "metadata": {},
   "source": [
    "## Successive over-relax method:\n",
    "\n",
    "w < 1 : under-relaxation\n",
    "w = 1 : Gauss-Seidel method\n",
    "w > 1 : over-relaxation"
   ]
  },
  {
   "cell_type": "code",
   "execution_count": null,
   "metadata": {},
   "outputs": [],
   "source": [
    "#TODO: Visualize the results here"
   ]
  },
  {
   "cell_type": "markdown",
   "metadata": {},
   "source": [
    "---\n",
    "# Part 4"
   ]
  },
  {
   "cell_type": "markdown",
   "metadata": {},
   "source": [
    "## Multi-grid method"
   ]
  },
  {
   "cell_type": "code",
   "execution_count": null,
   "metadata": {},
   "outputs": [],
   "source": [
    "NX1   = 25\n",
    "NY1   = 25\n",
    "NX2   = 50\n",
    "NY2   = 50\n",
    "NX3   = 100\n",
    "NY3   = 100\n",
    "NITER = 100\n",
    "u1 = np.zeros(shape=(NX1,NY1))\n",
    "u2 = np.zeros(shape=(NX2,NY2))\n",
    "u3 = np.zeros(shape=(NX3,NY3))"
   ]
  },
  {
   "cell_type": "code",
   "execution_count": null,
   "metadata": {},
   "outputs": [],
   "source": [
    "def restriction(u_fine,u_coarser,NXC,NYC):\n",
    "    \"\"\"\n",
    "    from fine grid to coarser grid.\n",
    "    Assume the gird size is different by a factor of 2\n",
    "    \n",
    "    update the coarser grid based on information of the fine grid\n",
    "    \n",
    "    Inputs:\n",
    "    \n",
    "    u_fine: size of 2 NXC and 2 NYC\n",
    "    u_coarser: size of NXC and NYC\n",
    "    \n",
    "    \n",
    "    Outputs:\n",
    "    \n",
    "    u: size of NXC and NYC\n",
    "    \n",
    "    \n",
    "    \"\"\"\n",
    "    return uout  "
   ]
  },
  {
   "cell_type": "code",
   "execution_count": null,
   "metadata": {},
   "outputs": [],
   "source": [
    "def prolongation(u_fine, u_coarser,NXC, NYC):\n",
    "    \"\"\"\n",
    "    from coarser grid to fine grid\n",
    "    \n",
    "    update the fine grid based on information of the coarser grid\n",
    "    \n",
    "    Inputs:\n",
    "    \n",
    "    u_fine: size of 2 NXC and 2 NYC\n",
    "    u_coarser: size of NXC and NYC\n",
    "    \n",
    "    \n",
    "    Outputs:\n",
    "    \n",
    "    u: size of 2 NXC and 2 NYC\n",
    "    \n",
    "    \"\"\"\n",
    "\n",
    "    # To simplify the problem, we could do direct mapping without interpolation\n",
    "                \n",
    "    return uout"
   ]
  },
  {
   "cell_type": "code",
   "execution_count": null,
   "metadata": {},
   "outputs": [],
   "source": [
    "#TODO: To the full multigird cycle here and Visualize the results"
   ]
  },
  {
   "cell_type": "code",
   "execution_count": null,
   "metadata": {},
   "outputs": [],
   "source": []
  }
 ],
 "metadata": {
  "kernelspec": {
   "display_name": "Python 3",
   "language": "python",
   "name": "python3"
  },
  "language_info": {
   "codemirror_mode": {
    "name": "ipython",
    "version": 3
   },
   "file_extension": ".py",
   "mimetype": "text/x-python",
   "name": "python",
   "nbconvert_exporter": "python",
   "pygments_lexer": "ipython3",
   "version": "3.8.5"
  }
 },
 "nbformat": 4,
 "nbformat_minor": 4
}
