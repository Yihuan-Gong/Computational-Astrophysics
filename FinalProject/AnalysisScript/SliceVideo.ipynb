{
 "cells": [
  {
   "cell_type": "code",
   "execution_count": 1,
   "metadata": {},
   "outputs": [],
   "source": [
    "import yt\n",
    "import cv2\n",
    "import matplotlib.pyplot as plt\n",
    "import numpy as np\n",
    "import pandas as pd\n",
    "import h5py\n",
    "plt.style.use('default')\n"
   ]
  },
  {
   "cell_type": "code",
   "execution_count": 4,
   "metadata": {},
   "outputs": [],
   "source": [
    "quantity = 'pres'\n",
    "domain   = 3       # Mpc\n",
    "\n",
    "\n",
    "img = cv2.imread('picture/%s/%dMpc/0180.png'%(quantity, domain))\n",
    "fps = 24\n",
    "size = (img.shape[1], img.shape[0])  # (width, height)\n",
    "fourcc = cv2.VideoWriter_fourcc(*'mp4v')\n",
    "video = cv2.VideoWriter('video/%s_%dMpc.mp4'%(quantity, domain), fourcc, fps, size)\n",
    "\n",
    "for j in range(180,365):\n",
    "    img = cv2.imread('picture/%s/%dMpc/%04d.png'%(quantity, domain, j))\n",
    "    video.write(img)\n",
    "\n",
    "cv2.destroyAllWindows()\n",
    "video.release()"
   ]
  },
  {
   "cell_type": "code",
   "execution_count": null,
   "metadata": {},
   "outputs": [],
   "source": []
  }
 ],
 "metadata": {
  "kernelspec": {
   "display_name": "ytplot",
   "language": "python",
   "name": "python3"
  },
  "language_info": {
   "codemirror_mode": {
    "name": "ipython",
    "version": 3
   },
   "file_extension": ".py",
   "mimetype": "text/x-python",
   "name": "python",
   "nbconvert_exporter": "python",
   "pygments_lexer": "ipython3",
   "version": "3.6.13 |Anaconda, Inc.| (default, Jun  4 2021, 14:25:59) \n[GCC 7.5.0]"
  },
  "orig_nbformat": 4,
  "vscode": {
   "interpreter": {
    "hash": "7533367d48e97b11ff1ec66dfa43d4040b3361b2ccb9968411e3d77c3918e8fe"
   }
  }
 },
 "nbformat": 4,
 "nbformat_minor": 2
}
