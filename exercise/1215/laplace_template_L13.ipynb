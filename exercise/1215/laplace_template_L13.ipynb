{
  "cells": [
    {
      "cell_type": "code",
      "execution_count": 22,
      "metadata": {},
      "outputs": [],
      "source": [
        "import numpy as np\n",
        "import matplotlib as mpl\n",
        "import matplotlib.pyplot as plt\n",
        "import time\n",
        "from IPython.display import clear_output\n",
        "%matplotlib inline"
      ]
    },
    {
      "cell_type": "markdown",
      "metadata": {},
      "source": [
        "---\n",
        "# Part 1"
      ]
    },
    {
      "cell_type": "markdown",
      "metadata": {},
      "source": [
        "set parameters"
      ]
    },
    {
      "cell_type": "code",
      "execution_count": 61,
      "metadata": {},
      "outputs": [],
      "source": [
        "NX    = 10\n",
        "NY    = 10\n",
        "XMIN  = 0\n",
        "XMAX  = 1\n",
        "YMIN  = 0\n",
        "YMAX  = 1\n",
        "NITER = 50  # max number of iterations"
      ]
    },
    {
      "cell_type": "markdown",
      "metadata": {},
      "source": [
        "Initialize the grids"
      ]
    },
    {
      "cell_type": "code",
      "execution_count": 62,
      "metadata": {},
      "outputs": [],
      "source": [
        "u = np.zeros(shape=(NX,NY))"
      ]
    },
    {
      "cell_type": "markdown",
      "metadata": {},
      "source": [
        "set initial conditions (assume 0 everywhere)"
      ]
    },
    {
      "cell_type": "code",
      "execution_count": 63,
      "metadata": {},
      "outputs": [],
      "source": [
        "def initial(u,nx=NX,ny=NY):\n",
        "    u[:,:] = 0\n",
        "    return u"
      ]
    },
    {
      "cell_type": "markdown",
      "metadata": {},
      "source": [
        "Boundary conditions"
      ]
    },
    {
      "cell_type": "code",
      "execution_count": 64,
      "metadata": {},
      "outputs": [],
      "source": [
        "def set_boundary_conditions(u,nx=NX,ny=NY):\n",
        "    \"\"\"\n",
        "    Input: u[i][j]\n",
        "    \n",
        "    Output: u[i][j]\n",
        "    \n",
        "    B.C.: top    (y=1): u = 1\n",
        "          button (y=0): u = 0\n",
        "          left   (x=0): u = 0\n",
        "          right  (x=1): u = 0\n",
        "    \"\"\"\n",
        "\n",
        "    u[0,:]   = 0  # left\n",
        "    u[NX-1,:]= 0  # right\n",
        "    u[:,0]   = 0  # bottom\n",
        "    u[:,NY-1]= 1  # top\n",
        "    \n",
        "    return u"
      ]
    },
    {
      "cell_type": "markdown",
      "metadata": {},
      "source": [
        "## Jacobi method\n",
        "Do one iteration"
      ]
    },
    {
      "cell_type": "code",
      "execution_count": 65,
      "metadata": {},
      "outputs": [],
      "source": [
        "def evolve_jacobi(u,nx=NX,ny=NY):\n",
        "    \"\"\"\n",
        "    do one Jacobi iteration\n",
        "    \n",
        "    Inputs: u[size of NX][size of NY]\n",
        "    NX: number of points in x-axis\n",
        "    NY: number of points in y-axis\n",
        "    \n",
        "    Outputs: u\n",
        "    \n",
        "    \"\"\"\n",
        "\n",
        "    # Apply BC\n",
        "    u = set_boundary_conditions(u)\n",
        "    uold = u.copy()\n",
        "\n",
        "    # Calculate u next\n",
        "    for i in range(1,NX-1):\n",
        "        for j in range(1,NY-1):\n",
        "            u[i,j] = 0.25*(uold[i,j+1] + uold[i,j-1] + uold[i+1,j] + uold[i-1,j])\n",
        "    \n",
        "    # print(u)\n",
        "\n",
        "    return u"
      ]
    },
    {
      "cell_type": "markdown",
      "metadata": {},
      "source": [
        "Check convergence by comparing the differecne between u1 and u2"
      ]
    },
    {
      "cell_type": "code",
      "execution_count": 66,
      "metadata": {},
      "outputs": [],
      "source": [
        "def diff(u1,u2,nx=NX,ny=NY):\n",
        "    error = 0.0\n",
        "    for i in range(nx):\n",
        "        for j in range(ny):\n",
        "            error += abs(u1[i,j] - u2[i,j])\n",
        "    return error"
      ]
    },
    {
      "cell_type": "markdown",
      "metadata": {},
      "source": [
        "Start iterations"
      ]
    },
    {
      "cell_type": "code",
      "execution_count": 67,
      "metadata": {},
      "outputs": [
        {
          "data": {
            "image/png": "[encoded data removed]",
            "text/plain": [
              "<Figure size 864x360 with 3 Axes>"
            ]
          },
          "metadata": {
            "needs_background": "light"
          },
          "output_type": "display_data"
        }
      ],
      "source": [
        "u = initial(u)\n",
        "errors = np.zeros(NITER)\n",
        "for n in range(NITER):\n",
        "    \n",
        "    plt.figure(1,figsize=(12,5))\n",
        "    plt.subplot(121)\n",
        "    plt.title(\"N= {}\".format(n))\n",
        "    clear_output(wait=True)\n",
        "    \n",
        "    # make a copy of the u in the previous step\n",
        "    uold = u.copy()\n",
        "    \n",
        "    # do one iteration\n",
        "    u = evolve_jacobi(u)\n",
        "\n",
        "    # check the difference\n",
        "    err = diff(uold,u)\n",
        "    errors[n] = err\n",
        "    \n",
        "    # plot the results\n",
        "    plt.imshow(u.T,origin='lower',extent=[XMIN,XMAX,YMIN,YMAX],interpolation='none')\n",
        "    plt.colorbar()\n",
        "    plt.subplot(122)\n",
        "    plt.plot(errors,'k-')\n",
        "    plt.xlim([0,NITER+1])\n",
        "    plt.xlabel(\"N\")\n",
        "    plt.yscale('log')\n",
        "    #time.sleep(0.0001)\n",
        "    plt.show()"
      ]
    },
    {
      "cell_type": "markdown",
      "metadata": {},
      "source": [
        "---\n",
        "# Part 2"
      ]
    },
    {
      "cell_type": "markdown",
      "metadata": {},
      "source": [
        "## Gauss-Seidel method"
      ]
    },
    {
      "cell_type": "code",
      "execution_count": 68,
      "metadata": {},
      "outputs": [],
      "source": [
        "def evolve_gauss_seidel(u,nx=NX,ny=NY):\n",
        "    \"\"\"\n",
        "    do one Gauss-Seidel iteration\n",
        "    \"\"\"\n",
        "\n",
        "    # Apply BC\n",
        "    u = set_boundary_conditions(u)\n",
        "    uold = u.copy()\n",
        "\n",
        "    # Calculate u next\n",
        "    for i in range(1,NX-1):\n",
        "        for j in range(1,NY-1):\n",
        "            u[i,j] = 0.25*(u[i,j+1] + u[i,j-1] + u[i+1,j] + u[i-1,j])\n",
        "\n",
        "    return u"
      ]
    },
    {
      "cell_type": "code",
      "execution_count": 69,
      "metadata": {},
      "outputs": [
        {
          "data": {
            "image/png": "[encoded data removed]",
            "text/plain": [
              "<Figure size 864x360 with 3 Axes>"
            ]
          },
          "metadata": {
            "needs_background": "light"
          },
          "output_type": "display_data"
        }
      ],
      "source": [
        "#TODO: Visualize the results here\n",
        "\n",
        "u = initial(u)\n",
        "errors = np.zeros(NITER)\n",
        "for n in range(NITER):\n",
        "    \n",
        "    plt.figure(1,figsize=(12,5))\n",
        "    plt.subplot(121)\n",
        "    plt.title(\"N= {}\".format(n))\n",
        "    clear_output(wait=True)\n",
        "    \n",
        "    # make a copy of the u in the previous step\n",
        "    uold = u.copy()\n",
        "    \n",
        "    # do one iteration\n",
        "    u = evolve_gauss_seidel(u)\n",
        "\n",
        "    # check the difference\n",
        "    err = diff(uold,u)\n",
        "    errors[n] = err\n",
        "    \n",
        "    # plot the results\n",
        "    plt.imshow(u.T,origin='lower',extent=[XMIN,XMAX,YMIN,YMAX],interpolation='none')\n",
        "    plt.colorbar()\n",
        "    plt.subplot(122)\n",
        "    plt.plot(errors,'k-')\n",
        "    plt.xlim([0,NITER+1])\n",
        "    plt.xlabel(\"N\")\n",
        "    plt.yscale('log')\n",
        "    #time.sleep(0.0001)\n",
        "    plt.show()"
      ]
    },
    {
      "cell_type": "markdown",
      "metadata": {},
      "source": [
        "---\n",
        "# Part 3"
      ]
    },
    {
      "cell_type": "markdown",
      "metadata": {},
      "source": [
        "## Successive over-relax method:\n",
        "\n",
        "w < 1 : under-relaxation\n",
        "w = 1 : Gauss-Seidel method\n",
        "w > 1 : over-relaxation"
      ]
    },
    {
      "cell_type": "code",
      "execution_count": 70,
      "metadata": {},
      "outputs": [
        {
          "data": {
            "image/png": "[encoded data removed]",
            "text/plain": [
              "<Figure size 864x360 with 3 Axes>"
            ]
          },
          "metadata": {
            "needs_background": "light"
          },
          "output_type": "display_data"
        }
      ],
      "source": [
        "#TODO: Visualize the results here\n",
        "\n",
        "w = 1.2  # Set w \n",
        "\n",
        "u = initial(u)\n",
        "errors = np.zeros(NITER)\n",
        "for n in range(NITER):\n",
        "    \n",
        "    plt.figure(1,figsize=(12,5))\n",
        "    plt.subplot(121)\n",
        "    plt.title(\"N= {}\".format(n))\n",
        "    clear_output(wait=True)\n",
        "    \n",
        "    # make a copy of the u in the previous step\n",
        "    uold = u.copy()\n",
        "    \n",
        "    # do one iteration\n",
        "    u = (1-w)*uold + w*evolve_gauss_seidel(u)\n",
        "\n",
        "    # check the difference\n",
        "    err = diff(uold,u)\n",
        "    errors[n] = err\n",
        "    \n",
        "    # plot the results\n",
        "    plt.imshow(u.T,origin='lower',extent=[XMIN,XMAX,YMIN,YMAX],interpolation='none')\n",
        "    plt.colorbar()\n",
        "    plt.subplot(122)\n",
        "    plt.plot(errors,'k-')\n",
        "    plt.xlim([0,NITER+1])\n",
        "    plt.xlabel(\"N\")\n",
        "    plt.yscale('log')\n",
        "    #time.sleep(0.0001)\n",
        "    plt.title('SOR  w=1.2')\n",
        "    plt.show()"
      ]
    },
    {
      "cell_type": "code",
      "execution_count": null,
      "metadata": {},
      "outputs": [],
      "source": []
    }
  ],
  "metadata": {
    "kernelspec": {
      "display_name": "ytplot",
      "language": "python",
      "name": "python3"
    },
    "language_info": {
      "codemirror_mode": {
        "name": "ipython",
        "version": 3
      },
      "file_extension": ".py",
      "mimetype": "text/x-python",
      "name": "python",
      "nbconvert_exporter": "python",
      "pygments_lexer": "ipython3",
      "version": "3.6.13 |Anaconda, Inc.| (default, Jun  4 2021, 14:25:59) \n[GCC 7.5.0]"
    },
    "vscode": {
      "interpreter": {
        "hash": "7533367d48e97b11ff1ec66dfa43d4040b3361b2ccb9968411e3d77c3918e8fe"
      }
    }
  },
  "nbformat": 4,
  "nbformat_minor": 4
}
